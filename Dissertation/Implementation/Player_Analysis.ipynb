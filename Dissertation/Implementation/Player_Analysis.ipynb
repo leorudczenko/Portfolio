{
 "cells": [
  {
   "cell_type": "code",
   "execution_count": 1,
   "id": "ce6f34d2",
   "metadata": {},
   "outputs": [],
   "source": [
    "import numpy as  np\n",
    "import pandas as pd\n",
    "import matplotlib.pyplot as plt\n",
    "import seaborn as sns\n",
    "%matplotlib inline\n",
    "\n",
    "from Essential_Functions import Spacing,CalculateSpacing,ConnectDatabase,GetRandomPlayerID,GetTankCategories,ConvertVPPString,CreateVPPDictionary,CalculatePercentage"
   ]
  },
  {
   "cell_type": "code",
   "execution_count": 2,
   "id": "0b1ec8d4",
   "metadata": {},
   "outputs": [
    {
     "name": "stdout",
     "output_type": "stream",
     "text": [
      "Connected to WoTData.db Successfully.\n",
      "\n"
     ]
    }
   ],
   "source": [
    "cr,db = ConnectDatabase(\"WoTData.db\")"
   ]
  },
  {
   "cell_type": "code",
   "execution_count": 7,
   "id": "43324af8",
   "metadata": {},
   "outputs": [
    {
     "name": "stdout",
     "output_type": "stream",
     "text": [
      "11375\n"
     ]
    }
   ],
   "source": [
    "# Get the player ID\n",
    "PlayerID = GetRandomPlayerID(cr,db)\n",
    "#PlayerID = \n",
    "print(PlayerID)\n",
    "\n",
    "# Get the vehicle personality preference string from the given player and convert it into a dictionary\n",
    "cr.execute(\"\"\"SELECT vehicle_personality_preference FROM PlayerStatistics WHERE account_id = \"\"\" + str(PlayerID))\n",
    "VPPString = cr.fetchone()[0]\n",
    "VPPDictionary = ConvertVPPString(cr,db,VPPString)"
   ]
  },
  {
   "cell_type": "code",
   "execution_count": 8,
   "id": "bf41293d",
   "metadata": {},
   "outputs": [
    {
     "name": "stdout",
     "output_type": "stream",
     "text": [
      "[1, 2, 3, 4, 5, 6, 7, 8, 9, 10]\n",
      "[2.66, 7.69, 28.99, 56.51, 98.82, 100.0, 53.25, 56.8, 0.0, 0.0]\n",
      "['china', 'czech', 'france', 'germany', 'italy', 'japan', 'poland', 'sweden', 'uk', 'usa', 'ussr']\n",
      "[2.29, 0.0, 11.34, 16.25, 0.0, 0.0, 0.0, 0.0, 0.0, 100.0, 19.3]\n",
      "['AT-SPG', 'SPG', 'heavyTank', 'lightTank', 'mediumTank']\n",
      "[100.0, 0.0, 3.87, 18.23, 3.87]\n"
     ]
    }
   ],
   "source": [
    "# For tiers, nations and types, create two lists where the first represents the labels of the categories \n",
    "# whilst the second represents the player's artificial ratings of the categories\n",
    "TierList = []\n",
    "PlayerTierList = []\n",
    "for Tier in VPPDictionary[\"tiers\"]:\n",
    "    TierList.append(Tier)\n",
    "    PlayerTierList.append(round(VPPDictionary[\"tiers\"][Tier] * 100, 2))\n",
    "\n",
    "NationList = []\n",
    "PlayerNationList = []\n",
    "for Nation in VPPDictionary[\"nations\"]:\n",
    "    NationList.append(Nation)\n",
    "    PlayerNationList.append(round(VPPDictionary[\"nations\"][Nation] * 100, 2))\n",
    "\n",
    "TypeList = []\n",
    "PlayerTypeList = []\n",
    "for Type in VPPDictionary[\"types\"]:\n",
    "    TypeList.append(Type)\n",
    "    PlayerTypeList.append(round(VPPDictionary[\"types\"][Type] * 100, 2))\n",
    "\n",
    "    \n",
    "print(TierList)\n",
    "print(PlayerTierList)\n",
    "print(NationList)\n",
    "print(PlayerNationList)\n",
    "print(TypeList)\n",
    "print(PlayerTypeList)"
   ]
  },
  {
   "cell_type": "code",
   "execution_count": 9,
   "id": "6a1a6ec1",
   "metadata": {
    "scrolled": true
   },
   "outputs": [
    {
     "data": {
      "image/png": "[encoded data removed]",
      "text/plain": [
       "<Figure size 1440x360 with 3 Axes>"
      ]
     },
     "metadata": {
      "needs_background": "light"
     },
     "output_type": "display_data"
    }
   ],
   "source": [
    "# Create one large figure which contains a visual demonstration of the given player's vehicle personality preference\n",
    "# Each is displayed as a bar chart alongside each other\n",
    "\n",
    "Figure, (TierPlot, NationPlot, TypePlot) = plt.subplots(1,3, gridspec_kw={'width_ratios': [1.5, 2.5, 1.5]})\n",
    "Figure.set_size_inches(20, 5)\n",
    "Figure.suptitle(\"Player - \" + str(PlayerID), color = \"darkblue\", size = 20, fontweight = \"bold\")\n",
    "\n",
    "TierPlot.bar(TierList, PlayerTierList, color = \"darkorange\", alpha = 0.5)\n",
    "TierPlot.set_title(\"Artificial Rating Per Tier\", color = \"darkblue\", size = 16)\n",
    "TierPlot.set_xlabel(\"Tier\", color = \"darkblue\", size = 12, fontweight = \"bold\")\n",
    "TierPlot.set_xticks(TierList)\n",
    "TierPlot.set_ylabel(\"Artificial Rating %\", color = \"darkblue\", size = 12, fontweight = \"bold\")\n",
    "    \n",
    "NationPlot.bar(NationList, PlayerNationList, color = \"darkorange\", alpha = 0.5)\n",
    "NationPlot.set_title(\"Artificial Rating Per Nation\", color = \"darkblue\", size = 16)\n",
    "NationPlot.set_xlabel(\"Nation\", color = \"darkblue\", size = 12, fontweight = \"bold\")\n",
    "NationPlot.set_xticks(NationList)\n",
    "NationPlot.set_ylabel(\"Artificial Rating %\", color = \"darkblue\", size = 12, fontweight = \"bold\")\n",
    "\n",
    "TypePlot.bar(TypeList, PlayerTypeList, color = \"darkorange\", alpha = 0.5)\n",
    "TypePlot.set_title(\"Artificial Rating Per Type\", color = \"darkblue\", size = 16)\n",
    "TypePlot.set_xlabel(\"Type\", color = \"darkblue\", size = 12, fontweight = \"bold\")\n",
    "TypePlot.set_xticks(TypeList)\n",
    "TypePlot.set_ylabel(\"Artificial Rating %\", color = \"darkblue\", size = 12, fontweight = \"bold\")\n",
    "\n",
    "plt.tight_layout()\n",
    "plt.show()\n",
    "# Save the plot as a png image file\n",
    "Figure.savefig(\"Visualisations/VPP - \" + str(PlayerID) + \".png\", dpi=100)"
   ]
  },
  {
   "cell_type": "code",
   "execution_count": 10,
   "id": "d1373892",
   "metadata": {
    "scrolled": false
   },
   "outputs": [
    {
     "name": "stdout",
     "output_type": "stream",
     "text": [
      "Getting 11375 Statistics and Tanks...\n",
      "\n",
      "   ---   PlayerStatistics for Player: 11375   ---\n",
      "\n",
      "Overall Battles: 2758\n",
      "Overall Wins:    1368\n",
      "Overall Winrate: 49.6%\n",
      "\n",
      "\n",
      "   ---   PlayerTanks for Player: 11375   ---\n",
      "\n",
      "Tank Name:        Tier:   Nation:     Type:          Wins:   Battles:  Winrate:   Artificial Rating:  \n",
      "Jackson           6       usa         AT-SPG         213     433       49.19%     100.0%              \n",
      "T28               8       usa         AT-SPG         171     384       44.53%     80.19%              \n",
      "T25 AT            7       usa         AT-SPG         169     367       46.05%     79.25%              \n",
      "Wolverine         5       usa         AT-SPG         105     217       48.39%     49.06%              \n",
      "Leopard           5       germany     lightTank      123     212       58.02%     57.55%              \n",
      "SU-85             5       ussr        AT-SPG         103     196       52.55%     48.11%              \n",
      "Hellcat           6       usa         AT-SPG         106     187       56.68%     49.53%              \n",
      "T40               4       usa         AT-SPG         60      135       44.44%     27.83%              \n",
      "B1                4       france      heavyTank      39      93        41.94%     17.92%              \n",
      "T56 GMC           3       usa         AT-SPG         60      89        67.42%     27.83%              \n",
      "SU-85B            4       ussr        AT-SPG         36      69        52.17%     16.51%              \n",
      "SU-76M            4       ussr        AT-SPG         27      61        44.26%     12.26%              \n",
      "Type 59           8       china       mediumTank     21      42        50.0%      9.43%               \n",
      "D2                3       france      mediumTank     21      41        51.22%     9.43%               \n",
      "AMX 38            3       france      lightTank      17      39        43.59%     7.55%               \n",
      "AMX 40            4       france      lightTank      15      36        41.67%     6.6%                \n",
      "VK 28.01          6       germany     lightTank      11      29        37.93%     4.72%               \n",
      "Luchs             4       germany     lightTank      14      28        50.0%      6.13%               \n",
      "T3 HMC            2       usa         AT-SPG         14      19        73.68%     6.13%               \n",
      "BDR G1 B          5       france      heavyTank      3       18        16.67%     0.94%               \n",
      "SU-100            6       ussr        AT-SPG         8       17        47.06%     3.3%                \n",
      "T25/2             7       usa         AT-SPG         11      16        68.75%     4.72%               \n",
      "T1                1       usa         lightTank      8       10        80.0%      3.3%                \n",
      "H35               2       france      lightTank      5       8         62.5%      1.89%               \n",
      "AT-1              2       ussr        AT-SPG         3       7         42.86%     0.94%               \n",
      "D1                2       france      lightTank      4       4         100.0%     1.42%               \n",
      "L.Tr.             1       germany     lightTank      1       1         100.0%     0.0%                \n"
     ]
    }
   ],
   "source": [
    "# Function to output the list of tanks a given player has played with their basic statistics\n",
    "def OutputPlayerOverview(cr,db,PlayerID):\n",
    "    # Get the statistics and tanks of the target player\n",
    "    print(\"Getting \" + str(PlayerID) + \" Statistics and Tanks...\")\n",
    "    Spacing(1)\n",
    "    cr.execute(\"\"\"SELECT statistics$all$battles, statistics$all$wins, vehicle_personality_preference FROM PlayerStatistics WHERE account_id = \"\"\" + str(PlayerID))\n",
    "    PlayerStatistic = cr.fetchone()\n",
    "    cr.execute(\"\"\"SELECT tank_id,wins,battles,artificial_rating FROM PlayerTanks WHERE account_id = \"\"\" + str(PlayerID))\n",
    "    PlayerTanks = cr.fetchall()\n",
    "\n",
    "    # Output basic statistics of the target player\n",
    "    print(\"   ---   PlayerStatistics for Player: \" + str(PlayerID) + \"   ---\")\n",
    "    Spacing(1)\n",
    "    print(\"Overall Battles: \" + str(PlayerStatistic[0]))\n",
    "    print(\"Overall Wins:    \" + str(PlayerStatistic[1]))\n",
    "    print(\"Overall Winrate: \" + CalculatePercentage([PlayerStatistic[1], PlayerStatistic[0]], 2))\n",
    "    Spacing(2)\n",
    "                                    \n",
    "\n",
    "    # Output the list of vehicles owned by the target player and their statistics\n",
    "    print(\"   ---   PlayerTanks for Player: \" + str(PlayerID) + \"   ---\")\n",
    "    Spacing(1)\n",
    "\n",
    "    # Values are outputted in a table style, SpacingValues represents the number of spaces between each column\n",
    "    SpacingValues = [18, 8, 12, 15, 8, 10, 11, 20]\n",
    "    Titles = [\"Tank Name:\", \"Tier:\", \"Nation:\", \"Type:\", \"Wins:\", \"Battles:\", \"Winrate:\", \"Artificial Rating:\"]\n",
    "    TableTitle = \"\"\n",
    "\n",
    "    # Output the column titles of the table\n",
    "    for Position in range(len(SpacingValues)):\n",
    "        TableTitle += CalculateSpacing(Titles[Position], SpacingValues[Position])\n",
    "    print(TableTitle)\n",
    "\n",
    "    # Loop through each of the target player's tanks\n",
    "    for PlayerTank in PlayerTanks:\n",
    "\n",
    "        # Get the statistics of the tank itself\n",
    "        cr.execute(\"\"\"SELECT short_name,tier,nation,type FROM GameTanks WHERE tank_id = \"\"\" + str(PlayerTank[0]))\n",
    "        TankCategories = cr.fetchone()\n",
    "\n",
    "        # Create a string to represent the row of data and output it\n",
    "        CurrentTankString = \"\"\n",
    "        TankDetails = [TankCategories[0], TankCategories[1], TankCategories[2], TankCategories[3], PlayerTank[1], PlayerTank[2], CalculatePercentage([PlayerTank[1], PlayerTank[2]], 2), CalculatePercentage(PlayerTank[3], 2)]\n",
    "        for Position in range(len(SpacingValues)):\n",
    "            CurrentTankString += CalculateSpacing(TankDetails[Position], SpacingValues[Position])\n",
    "        print(CurrentTankString)\n",
    "        \n",
    "OutputPlayerOverview(cr,db,PlayerID)"
   ]
  },
  {
   "cell_type": "code",
   "execution_count": null,
   "id": "b851df23",
   "metadata": {},
   "outputs": [],
   "source": []
  },
  {
   "cell_type": "code",
   "execution_count": null,
   "id": "11b9a013",
   "metadata": {},
   "outputs": [],
   "source": []
  }
 ],
 "metadata": {
  "kernelspec": {
   "display_name": "Python 3",
   "language": "python",
   "name": "python3"
  },
  "language_info": {
   "codemirror_mode": {
    "name": "ipython",
    "version": 3
   },
   "file_extension": ".py",
   "mimetype": "text/x-python",
   "name": "python",
   "nbconvert_exporter": "python",
   "pygments_lexer": "ipython3",
   "version": "3.8.8"
  }
 },
 "nbformat": 4,
 "nbformat_minor": 5
}
